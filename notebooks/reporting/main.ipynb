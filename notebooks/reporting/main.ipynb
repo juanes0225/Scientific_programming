{
 "cells": [
  {
   "cell_type": "code",
   "execution_count": null,
   "id": "3b20ee2d",
   "metadata": {},
   "outputs": [
    {
     "name": "stdout",
     "output_type": "stream",
     "text": [
      "O ----- preprocessing.preprocess importado correctamente.\n",
      "O ----- analysis.features importado correctamente.\n",
      "O ----- analysis.statistics importado correctamente.\n",
      "O ----- analysis.model importado correctamente.\n",
      "O ----- visualization.plots importado correctamente.\n"
     ]
    }
   ],
   "source": [
    "# Environment settings for importing from 'src/' \n",
    "import sys\n",
    "import pandas as pd\n",
    "from pathlib import Path\n",
    "\n",
    "\n",
    "# Detect root of project (upload from notebooks/reporting/)\n",
    "project_root = Path.cwd().parents[1]\n",
    "src_path = project_root / \"src\"\n",
    "\n",
    "\n",
    "if str(src_path) not in sys.path:\n",
    "    sys.path.insert(0, str(src_path))\n",
    " \n",
    "try:\n",
    "    from preprocessing.preprocess import process_data\n",
    "    print(\"O ----- preprocessing.preprocess importado correctamente.\")\n",
    "except Exception as e:\n",
    "    print(\"X ----- Error en preprocessing.preprocess:\", e)\n",
    "\n",
    "try:\n",
    "    from analysis.features import FeatureExtractor\n",
    "    print(\"O ----- analysis.features importado correctamente.\")\n",
    "except Exception as e:\n",
    "    print(\"X ----- Error en analysis.features:\", e)\n",
    "\n",
    "try:\n",
    "    from analysis.statistics import (\n",
    "        separability_measure,\n",
    "        compute_covariance_matrix,\n",
    "        compute_eigen_decomposition,\n",
    "        anova_test,\n",
    "        compute_fisher_ratio,\n",
    "        \n",
    "    )\n",
    "    print(\"O ----- analysis.statistics importado correctamente.\")\n",
    "except Exception as e:\n",
    "    print(\"X ----- Error en analysis.statistics:\", e)\n",
    "\n",
    "try:\n",
    "    from analysis.model import train_and_evaluate_logistic_regression\n",
    "    print(\"O ----- analysis.model importado correctamente.\")\n",
    "except Exception as e:\n",
    "    print(\"X ----- Error en analysis.model:\", e)\n",
    "\n",
    "try:\n",
    "    import visualization.plots as plots\n",
    "    print(\"O ----- visualization.plots importado correctamente.\")\n",
    "except Exception as e:\n",
    "    print(\"X ----- Error en visualization.plots:\", e)\n",
    "\n"
   ]
  },
  {
   "cell_type": "code",
   "execution_count": 16,
   "id": "bab7d19d",
   "metadata": {},
   "outputs": [
    {
     "name": "stdout",
     "output_type": "stream",
     "text": [
      "--- Preprocessing ---\n",
      "Cleaned and scaled data saved to: c:\\Users\\juane\\OneDrive\\Documentos\\DOCUMENTOS MAESTRIA\\programacion cientifica\\data\\processed\\cleaned_data.csv\n"
     ]
    },
    {
     "data": {
      "text/html": [
       "<div>\n",
       "<style scoped>\n",
       "    .dataframe tbody tr th:only-of-type {\n",
       "        vertical-align: middle;\n",
       "    }\n",
       "\n",
       "    .dataframe tbody tr th {\n",
       "        vertical-align: top;\n",
       "    }\n",
       "\n",
       "    .dataframe thead th {\n",
       "        text-align: right;\n",
       "    }\n",
       "</style>\n",
       "<table border=\"1\" class=\"dataframe\">\n",
       "  <thead>\n",
       "    <tr style=\"text-align: right;\">\n",
       "      <th></th>\n",
       "      <th>Hora_PC</th>\n",
       "      <th>Temperatura</th>\n",
       "      <th>Humedad</th>\n",
       "      <th>Presion</th>\n",
       "      <th>Altitud</th>\n",
       "      <th>Lluvia</th>\n",
       "    </tr>\n",
       "  </thead>\n",
       "  <tbody>\n",
       "    <tr>\n",
       "      <th>0</th>\n",
       "      <td>2025-03-24 15:27:35</td>\n",
       "      <td>2.078398</td>\n",
       "      <td>-2.243462</td>\n",
       "      <td>-2.360755</td>\n",
       "      <td>2.337728</td>\n",
       "      <td>1</td>\n",
       "    </tr>\n",
       "    <tr>\n",
       "      <th>1</th>\n",
       "      <td>2025-03-24 15:28:33</td>\n",
       "      <td>2.141883</td>\n",
       "      <td>-2.290703</td>\n",
       "      <td>-2.287881</td>\n",
       "      <td>2.305963</td>\n",
       "      <td>1</td>\n",
       "    </tr>\n",
       "    <tr>\n",
       "      <th>2</th>\n",
       "      <td>2025-03-24 15:29:33</td>\n",
       "      <td>2.139123</td>\n",
       "      <td>-2.255460</td>\n",
       "      <td>-2.287881</td>\n",
       "      <td>2.317728</td>\n",
       "      <td>1</td>\n",
       "    </tr>\n",
       "    <tr>\n",
       "      <th>3</th>\n",
       "      <td>2025-03-24 15:30:33</td>\n",
       "      <td>2.059077</td>\n",
       "      <td>-2.282455</td>\n",
       "      <td>-2.360755</td>\n",
       "      <td>2.370670</td>\n",
       "      <td>1</td>\n",
       "    </tr>\n",
       "    <tr>\n",
       "      <th>4</th>\n",
       "      <td>2025-03-24 15:31:33</td>\n",
       "      <td>2.012153</td>\n",
       "      <td>-2.306451</td>\n",
       "      <td>-2.287881</td>\n",
       "      <td>2.316552</td>\n",
       "      <td>1</td>\n",
       "    </tr>\n",
       "    <tr>\n",
       "      <th>...</th>\n",
       "      <td>...</td>\n",
       "      <td>...</td>\n",
       "      <td>...</td>\n",
       "      <td>...</td>\n",
       "      <td>...</td>\n",
       "      <td>...</td>\n",
       "    </tr>\n",
       "    <tr>\n",
       "      <th>9263</th>\n",
       "      <td>2025-03-31 13:25:59</td>\n",
       "      <td>-0.049738</td>\n",
       "      <td>-0.155085</td>\n",
       "      <td>-0.611784</td>\n",
       "      <td>0.611820</td>\n",
       "      <td>0</td>\n",
       "    </tr>\n",
       "    <tr>\n",
       "      <th>9264</th>\n",
       "      <td>2025-03-31 13:26:59</td>\n",
       "      <td>-0.088381</td>\n",
       "      <td>0.118616</td>\n",
       "      <td>-0.611784</td>\n",
       "      <td>0.578879</td>\n",
       "      <td>0</td>\n",
       "    </tr>\n",
       "    <tr>\n",
       "      <th>9265</th>\n",
       "      <td>2025-03-31 13:27:59</td>\n",
       "      <td>-0.049738</td>\n",
       "      <td>0.180105</td>\n",
       "      <td>-0.611784</td>\n",
       "      <td>0.601232</td>\n",
       "      <td>0</td>\n",
       "    </tr>\n",
       "    <tr>\n",
       "      <th>9266</th>\n",
       "      <td>2025-03-31 13:29:00</td>\n",
       "      <td>0.010987</td>\n",
       "      <td>0.150110</td>\n",
       "      <td>-0.611784</td>\n",
       "      <td>0.580055</td>\n",
       "      <td>0</td>\n",
       "    </tr>\n",
       "    <tr>\n",
       "      <th>9267</th>\n",
       "      <td>2025-03-31 13:30:00</td>\n",
       "      <td>-0.011095</td>\n",
       "      <td>0.102868</td>\n",
       "      <td>-0.611784</td>\n",
       "      <td>0.587114</td>\n",
       "      <td>0</td>\n",
       "    </tr>\n",
       "  </tbody>\n",
       "</table>\n",
       "<p>9268 rows × 6 columns</p>\n",
       "</div>"
      ],
      "text/plain": [
       "                 Hora_PC  Temperatura   Humedad   Presion   Altitud  Lluvia\n",
       "0    2025-03-24 15:27:35     2.078398 -2.243462 -2.360755  2.337728       1\n",
       "1    2025-03-24 15:28:33     2.141883 -2.290703 -2.287881  2.305963       1\n",
       "2    2025-03-24 15:29:33     2.139123 -2.255460 -2.287881  2.317728       1\n",
       "3    2025-03-24 15:30:33     2.059077 -2.282455 -2.360755  2.370670       1\n",
       "4    2025-03-24 15:31:33     2.012153 -2.306451 -2.287881  2.316552       1\n",
       "...                  ...          ...       ...       ...       ...     ...\n",
       "9263 2025-03-31 13:25:59    -0.049738 -0.155085 -0.611784  0.611820       0\n",
       "9264 2025-03-31 13:26:59    -0.088381  0.118616 -0.611784  0.578879       0\n",
       "9265 2025-03-31 13:27:59    -0.049738  0.180105 -0.611784  0.601232       0\n",
       "9266 2025-03-31 13:29:00     0.010987  0.150110 -0.611784  0.580055       0\n",
       "9267 2025-03-31 13:30:00    -0.011095  0.102868 -0.611784  0.587114       0\n",
       "\n",
       "[9268 rows x 6 columns]"
      ]
     },
     "execution_count": 16,
     "metadata": {},
     "output_type": "execute_result"
    }
   ],
   "source": [
    "#  1. Preprocessing \n",
    "\n",
    "print(\"--- Preprocessing ---\")\n",
    "data = process_data(\n",
    "    \n",
    "    input_path= project_root / \"data/raw/data.csv\",\n",
    "    output_path=project_root / \"data/processed/cleaned_data.csv\"\n",
    ")\n",
    "data"
   ]
  },
  {
   "cell_type": "code",
   "execution_count": 20,
   "id": "1a897817",
   "metadata": {},
   "outputs": [
    {
     "name": "stdout",
     "output_type": "stream",
     "text": [
      "--- Feature Extraction ---\n",
      "                     mean  variance       rms\n",
      "Temperatura -1.778657e-16  0.999892  0.999946\n",
      "Humedad     -5.335970e-16  0.999892  0.999946\n",
      "Presion      2.789425e-14  0.999892  0.999946\n",
      "Altitud     -1.806625e-13  0.999892  0.999946\n",
      "             peak_freq  spectral_centroid  spectral_bandwidth\n",
      "Temperatura   0.000647           0.001937            0.011739\n",
      "Humedad       0.000647           0.001592            0.011725\n",
      "Presion       0.001403           0.001623            0.009392\n",
      "Altitud       0.001403           0.001527            0.007546\n",
      "             mean_abs_change  std_derivative\n",
      "Temperatura         0.034399        0.061365\n",
      "Humedad             0.033608        0.056440\n",
      "Presion             0.019015        0.045597\n",
      "Altitud             0.019477        0.036159\n"
     ]
    }
   ],
   "source": [
    "#  2. Feature extraction \n",
    "\n",
    "print(\"--- Feature Extraction ---\")\n",
    "features = FeatureExtractor(data)\n",
    "columns = data.columns[1:-1]  \n",
    "\n",
    "time_features = features.extract_time_features(columns)\n",
    "freq_features = features.extract_frequency_features(columns)\n",
    "deriv_features = features.extract_derivative_features(columns)\n",
    "print(time_features)\n",
    "print(freq_features)\n",
    "print(deriv_features)"
   ]
  },
  {
   "cell_type": "code",
   "execution_count": null,
   "id": "e818f5e8",
   "metadata": {},
   "outputs": [
    {
     "name": "stdout",
     "output_type": "stream",
     "text": [
      "--- Separability Analysis ---\n",
      "       feature  fisher_ratio\n",
      "0      Humedad      0.891560\n",
      "1  Temperatura      0.563495\n",
      "2      Altitud      0.000025\n",
      "3      Presion      0.000017\n"
     ]
    }
   ],
   "source": [
    "#  3. Estadística y separabilidad \n",
    "\n",
    "print(\"--- Separability Analysis ---\")\n",
    "label_col = data.columns[-1]  \n",
    "separability = separability_measure(data, columns.tolist(), label_col)\n",
    "print(separability)"
   ]
  },
  {
   "cell_type": "code",
   "execution_count": null,
   "id": "70f0413d",
   "metadata": {},
   "outputs": [
    {
     "name": "stdout",
     "output_type": "stream",
     "text": [
      "--- Visualizations ---\n",
      "Box plot guardado en: c:\\Users\\juane\\OneDrive\\Documentos\\DOCUMENTOS MAESTRIA\\programacion cientifica\\results\\figures\\boxplot.png\n"
     ]
    },
    {
     "name": "stderr",
     "output_type": "stream",
     "text": [
      "c:\\Users\\juane\\AppData\\Local\\Programs\\Python\\Python310\\lib\\site-packages\\seaborn\\axisgrid.py:1615: UserWarning: The markers list has more values (3) than needed (2), which may not be intended.\n",
      "  func(x=x, y=y, **kwargs)\n",
      "c:\\Users\\juane\\AppData\\Local\\Programs\\Python\\Python310\\lib\\site-packages\\seaborn\\axisgrid.py:1615: UserWarning: The markers list has more values (3) than needed (2), which may not be intended.\n",
      "  func(x=x, y=y, **kwargs)\n",
      "c:\\Users\\juane\\AppData\\Local\\Programs\\Python\\Python310\\lib\\site-packages\\seaborn\\axisgrid.py:1615: UserWarning: The markers list has more values (3) than needed (2), which may not be intended.\n",
      "  func(x=x, y=y, **kwargs)\n",
      "c:\\Users\\juane\\AppData\\Local\\Programs\\Python\\Python310\\lib\\site-packages\\seaborn\\axisgrid.py:1615: UserWarning: The markers list has more values (3) than needed (2), which may not be intended.\n",
      "  func(x=x, y=y, **kwargs)\n",
      "c:\\Users\\juane\\AppData\\Local\\Programs\\Python\\Python310\\lib\\site-packages\\seaborn\\axisgrid.py:1615: UserWarning: The markers list has more values (3) than needed (2), which may not be intended.\n",
      "  func(x=x, y=y, **kwargs)\n",
      "c:\\Users\\juane\\AppData\\Local\\Programs\\Python\\Python310\\lib\\site-packages\\seaborn\\axisgrid.py:1615: UserWarning: The markers list has more values (3) than needed (2), which may not be intended.\n",
      "  func(x=x, y=y, **kwargs)\n",
      "c:\\Users\\juane\\AppData\\Local\\Programs\\Python\\Python310\\lib\\site-packages\\seaborn\\axisgrid.py:1615: UserWarning: The markers list has more values (3) than needed (2), which may not be intended.\n",
      "  func(x=x, y=y, **kwargs)\n",
      "c:\\Users\\juane\\AppData\\Local\\Programs\\Python\\Python310\\lib\\site-packages\\seaborn\\axisgrid.py:1615: UserWarning: The markers list has more values (3) than needed (2), which may not be intended.\n",
      "  func(x=x, y=y, **kwargs)\n",
      "c:\\Users\\juane\\AppData\\Local\\Programs\\Python\\Python310\\lib\\site-packages\\seaborn\\axisgrid.py:1615: UserWarning: The markers list has more values (3) than needed (2), which may not be intended.\n",
      "  func(x=x, y=y, **kwargs)\n",
      "c:\\Users\\juane\\AppData\\Local\\Programs\\Python\\Python310\\lib\\site-packages\\seaborn\\axisgrid.py:1615: UserWarning: The markers list has more values (3) than needed (2), which may not be intended.\n",
      "  func(x=x, y=y, **kwargs)\n",
      "c:\\Users\\juane\\AppData\\Local\\Programs\\Python\\Python310\\lib\\site-packages\\seaborn\\axisgrid.py:1615: UserWarning: The markers list has more values (3) than needed (2), which may not be intended.\n",
      "  func(x=x, y=y, **kwargs)\n",
      "c:\\Users\\juane\\AppData\\Local\\Programs\\Python\\Python310\\lib\\site-packages\\seaborn\\axisgrid.py:1615: UserWarning: The markers list has more values (3) than needed (2), which may not be intended.\n",
      "  func(x=x, y=y, **kwargs)\n"
     ]
    }
   ],
   "source": [
    "#  4. View \n",
    "\n",
    "print(\"--- Visualizations ---\")\n",
    "\n",
    "data_dir = Path(project_root /\"results/figures\")\n",
    "data_dir.mkdir(parents=True, exist_ok=True)\n",
    "\n",
    "plots.plot_features_boxplot(data, output_path=data_dir / \"boxplot.png\")\n",
    "plots.plot_pairplot(data, hue_col=label_col, output_path=data_dir / \"pairplot.png\")\n",
    "plots.plot_feature_density(data, features=columns.tolist(), hue_col=label_col, output_path=data_dir / \"density.png\")"
   ]
  },
  {
   "cell_type": "code",
   "execution_count": null,
   "id": "32b45d24",
   "metadata": {},
   "outputs": [
    {
     "name": "stdout",
     "output_type": "stream",
     "text": [
      "--- PCA Analysis ---\n",
      "Temperatura    float64\n",
      "Humedad        float64\n",
      "Presion        float64\n",
      "Altitud        float64\n",
      "Lluvia           int64\n",
      "dtype: object\n",
      "Temperatura    float64\n",
      "Humedad        float64\n",
      "Presion        float64\n",
      "Altitud        float64\n",
      "Lluvia           int64\n",
      "dtype: object\n"
     ]
    }
   ],
   "source": [
    "#  5. PCA \n",
    "\n",
    "print(\"--- PCA Analysis ---\")\n",
    "cov_matrix = compute_covariance_matrix(data, columns.tolist(), output_path=Path(project_root / \"results/tables/cov_matrix.csv\"))\n",
    "eig_vals, eig_vecs = compute_eigen_decomposition(cov_matrix)\n",
    "plots.plot_eigenvectors_2d(data[columns].values, eig_vals, eig_vecs, columns.tolist(), output_path=data_dir / \"eigenvectors.png\")\n",
    "\n",
    "\n",
    "X_pca = FeatureExtractor.apply_pca_transformation(data, n_components=2)\n",
    "plots.plot_pca_dimensionality_reduction(X_pca, data[label_col], output_path=data_dir / \"pca_reduction.png\")"
   ]
  },
  {
   "cell_type": "code",
   "execution_count": null,
   "id": "1721a42c",
   "metadata": {},
   "outputs": [
    {
     "name": "stdout",
     "output_type": "stream",
     "text": [
      "--- Model Training ---\n",
      "Métricas de rendimiento de Regresión Logística:\n",
      "Accuracy:    0.8511\n",
      "Precision:   0.8720\n",
      "Recall:      0.9185\n",
      "F1-score:    0.8947\n",
      "ROC-AUC:     0.9202\n"
     ]
    }
   ],
   "source": [
    "#  6. Model ML \n",
    "\n",
    "print(\"--- Model Training ---\")\n",
    "metrics = train_and_evaluate_logistic_regression(data, features=columns.tolist(), target=label_col)"
   ]
  },
  {
   "cell_type": "code",
   "execution_count": 21,
   "id": "6d44b52a",
   "metadata": {},
   "outputs": [],
   "source": [
    "#  7. Export summary \n",
    "summary_path = Path(project_root / \"results/tables/summary_metrics.csv\")\n",
    "summary_path.parent.mkdir(parents=True, exist_ok=True)\n",
    "pd.DataFrame([metrics]).to_csv(summary_path, index=False)\n"
   ]
  }
 ],
 "metadata": {
  "kernelspec": {
   "display_name": "Python 3",
   "language": "python",
   "name": "python3"
  },
  "language_info": {
   "codemirror_mode": {
    "name": "ipython",
    "version": 3
   },
   "file_extension": ".py",
   "mimetype": "text/x-python",
   "name": "python",
   "nbconvert_exporter": "python",
   "pygments_lexer": "ipython3",
   "version": "3.10.0rc2"
  }
 },
 "nbformat": 4,
 "nbformat_minor": 5
}
